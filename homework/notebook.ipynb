{
 "cells": [
  {
   "cell_type": "code",
   "execution_count": 149,
   "metadata": {},
   "outputs": [],
   "source": [
    "import pandas as pd\n",
    "test_data = pd.read_csv(\"../files/input/test_data.csv.zip\",index_col=False,compression=\"zip\")\n",
    "train_data = pd.read_csv(\"../files/input/train_data.csv.zip\",index_col=False,compression=\"zip\")"
   ]
  },
  {
   "cell_type": "code",
   "execution_count": 150,
   "metadata": {},
   "outputs": [],
   "source": [
    "#paso 1\n",
    "current_year = 2021\n",
    "\n",
    "train_data['Age'] = current_year - train_data['Year']\n",
    "test_data['Age'] = current_year - test_data['Year']\n",
    "\n",
    "columns_to_drop = ['Year', 'Car_Name']\n",
    "train_data = train_data.drop(columns=columns_to_drop)\n",
    "test_data = test_data.drop(columns=columns_to_drop)\n"
   ]
  },
  {
   "cell_type": "code",
   "execution_count": 151,
   "metadata": {},
   "outputs": [],
   "source": [
    "#paso 2\n",
    "x_train=train_data.drop(columns=\"Present_Price\")\n",
    "y_train=train_data[\"Present_Price\"]\n",
    "\n",
    "\n",
    "x_test=test_data.drop(columns=\"Present_Price\")\n",
    "y_test=test_data[\"Present_Price\"]"
   ]
  },
  {
   "cell_type": "code",
   "execution_count": 152,
   "metadata": {},
   "outputs": [],
   "source": [
    "#paso 3\n",
    "from sklearn.compose import ColumnTransformer\n",
    "from sklearn.pipeline import Pipeline\n",
    "from sklearn.preprocessing import OneHotEncoder, MinMaxScaler\n",
    "from sklearn.feature_selection import SelectKBest, f_regression\n",
    "from sklearn.linear_model import LinearRegression\n",
    "\n",
    "# Identificar columnas categóricas y numéricas\n",
    "categorical_features = ['Fuel_Type', 'Selling_type', 'Transmission']\n",
    "numeric_features= [col for col in x_train.columns if col not in categorical_features]\n",
    "\n",
    "# Crear transformaciones para las columnas\n",
    "preprocessor = ColumnTransformer(\n",
    "    transformers=[\n",
    "        ('cat', OneHotEncoder(), categorical_features),\n",
    "        ('num', MinMaxScaler(), numeric_features)\n",
    "    ]\n",
    ")\n",
    "\n",
    "# Crear el pipeline\n",
    "pipeline = Pipeline(\n",
    "    steps=[\n",
    "        ('preprocessor', preprocessor),  # Transformar las columnas\n",
    "        ('feature_selector', SelectKBest(score_func=f_regression, k='all')),  # Seleccionar las K mejores entradas\n",
    "        ('regressor', LinearRegression())  # Modelo de regresión lineal\n",
    "    ]\n",
    ")"
   ]
  },
  {
   "cell_type": "code",
   "execution_count": 153,
   "metadata": {},
   "outputs": [],
   "source": [
    "#paso 4\n",
    "from sklearn.model_selection import GridSearchCV\n",
    "\n",
    "# Definir los hiperparámetros a optimizar\n",
    "param_grid = {\n",
    "    'feature_selector__k':range(1,15),\n",
    "    'regressor__fit_intercept':[True,False],\n",
    "    \n",
    "}\n",
    "\n",
    "# Crear el objeto GridSearchCV\n",
    "model=GridSearchCV(\n",
    "    estimator=pipeline,\n",
    "    param_grid=param_grid,\n",
    "    cv=10,  \n",
    "    scoring=\"neg_mean_absolute_error\",\n",
    "    n_jobs=-1,   \n",
    ")\n",
    "\n",
    "\n",
    "model.fit(x_train, y_train)\n",
    "\n",
    "best_model=model.best_estimator_"
   ]
  },
  {
   "cell_type": "code",
   "execution_count": 154,
   "metadata": {},
   "outputs": [],
   "source": [
    "#paso 5\n",
    "import pickle\n",
    "import os\n",
    "import gzip\n",
    "\n",
    "models_dir = '../files/models'\n",
    "os.makedirs(models_dir, exist_ok=True)\n",
    "\n",
    "with gzip.open(\"../files/models/model.pkl.gz\", \"wb\") as file:\n",
    "    pickle.dump(model, file)"
   ]
  },
  {
   "cell_type": "code",
   "execution_count": 155,
   "metadata": {},
   "outputs": [
    {
     "name": "stdout",
     "output_type": "stream",
     "text": [
      "Métricas guardadas en: ../files/output/metrics.json\n"
     ]
    }
   ],
   "source": [
    "import json\n",
    "import os\n",
    "from sklearn.metrics import r2_score, mean_squared_error, mean_absolute_error,median_absolute_error\n",
    "\n",
    "# Calcular métricas para el conjunto de entrenamiento\n",
    "y_train_pred = best_model.predict(x_train)\n",
    "train_metrics = {\n",
    "    'type': 'metrics',\n",
    "    'dataset': 'train',\n",
    "    'r2': r2_score(y_train, y_train_pred),\n",
    "    'mse': mean_squared_error(y_train, y_train_pred),\n",
    "    'mad': median_absolute_error(y_train, y_train_pred),\n",
    "}\n",
    "\n",
    "# Calcular métricas para el conjunto de prueba\n",
    "y_test_pred = best_model.predict(x_test)\n",
    "test_metrics = {\n",
    "    'type': 'metrics',\n",
    "    'dataset': 'test',\n",
    "    'r2': r2_score(y_test, y_test_pred),\n",
    "    'mse': mean_squared_error(y_test, y_test_pred),\n",
    "    'mad': median_absolute_error(y_test, y_test_pred),\n",
    "}\n",
    "\n",
    "output_path = \"../files/output/metrics.json\"\n",
    "os.makedirs(os.path.dirname(output_path), exist_ok=True)  \n",
    "\n",
    "with open(output_path, 'w') as f:\n",
    "    f.write(json.dumps(train_metrics) + '\\n')  \n",
    "    f.write(json.dumps(test_metrics) + '\\n')  \n",
    "\n",
    "print(f\"Métricas guardadas en: {output_path}\")"
   ]
  }
 ],
 "metadata": {
  "kernelspec": {
   "display_name": ".venv",
   "language": "python",
   "name": "python3"
  },
  "language_info": {
   "codemirror_mode": {
    "name": "ipython",
    "version": 3
   },
   "file_extension": ".py",
   "mimetype": "text/x-python",
   "name": "python",
   "nbconvert_exporter": "python",
   "pygments_lexer": "ipython3",
   "version": "3.12.1"
  }
 },
 "nbformat": 4,
 "nbformat_minor": 2
}
